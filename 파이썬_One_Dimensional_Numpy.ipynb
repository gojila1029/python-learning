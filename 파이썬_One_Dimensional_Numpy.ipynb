{
  "nbformat": 4,
  "nbformat_minor": 0,
  "metadata": {
    "kernelspec": {
      "display_name": "Python 3",
      "language": "python",
      "name": "python3"
    },
    "language_info": {
      "codemirror_mode": {
        "name": "ipython",
        "version": 3
      },
      "file_extension": ".py",
      "mimetype": "text/x-python",
      "name": "python",
      "nbconvert_exporter": "python",
      "pygments_lexer": "ipython3",
      "version": "3.7.6"
    },
    "colab": {
      "name": "파이썬-One Dimensional Numpy",
      "provenance": [],
      "include_colab_link": true
    }
  },
  "cells": [
    {
      "cell_type": "markdown",
      "metadata": {
        "id": "view-in-github",
        "colab_type": "text"
      },
      "source": [
        "<a href=\"https://colab.research.google.com/github/gojila1029/python-learning/blob/master/%ED%8C%8C%EC%9D%B4%EC%8D%AC_One_Dimensional_Numpy.ipynb\" target=\"_parent\"><img src=\"https://colab.research.google.com/assets/colab-badge.svg\" alt=\"Open In Colab\"/></a>"
      ]
    },
    {
      "cell_type": "markdown",
      "metadata": {
        "id": "cFhrYaZicdhE",
        "colab_type": "text"
      },
      "source": [
        "<center>\n",
        "    <img src=\"https://s3-api.us-geo.objectstorage.softlayer.net/cf-courses-data/CognitiveClass/Logos/organization_logo/organization_logo.png\" width=\"300\" alt=\"cognitiveclass.ai logo\"  />\n",
        "</center>\n",
        "\n",
        "# 1D Numpy in Python\n",
        "\n",
        "Estaimted time needed: **30** minutes\n",
        "\n",
        "## Objectives\n",
        "\n",
        "After complting this lab you will be able to:\n",
        "\n",
        "-   Import and use `numpy` library\n",
        "-   Perform operations with `numpy`\n"
      ]
    },
    {
      "cell_type": "markdown",
      "metadata": {
        "id": "vFLoaMn8cdhF",
        "colab_type": "text"
      },
      "source": [
        "<h2>Table of Contents</h2>\n",
        "<div class=\"alert alert-block alert-info\" style=\"margin-top: 20px\">\n",
        "    <ul>\n",
        "        <li><a href=\"pre\">Preparation</a></li>\n",
        "        <li>\n",
        "            <a href=\"numpy\">What is Numpy?</a>\n",
        "            <ul>\n",
        "                <li><a href=\"type\">Type</a></li>\n",
        "                <li><a href=\"val\">Assign Value</a></li>\n",
        "                <li><a href=\"slice\">Slicing</a></li>\n",
        "                <li><a href=\"list\">Assign Value with List</a></li>\n",
        "                <li><a href=\"other\">Other Attributes</a></li>\n",
        "            </ul>\n",
        "        </li>\n",
        "        <li>\n",
        "            <a href=\"op\">Numpy Array Operations</a>\n",
        "            <ul>\n",
        "                <li><a href=\"add\">Array Addition</a></li>\n",
        "                <li><a href=\"multi\">Array Multiplication</a></li>\n",
        "                <li><a href=\"prod\">Product of Two Numpy Arrays</a></li>\n",
        "                <li><a href=\"dot\">Dot Product</a></li>\n",
        "                <li><a href=\"cons\">Adding Constant to a Numpy Array</a></li>\n",
        "            </ul>\n",
        "        </li>\n",
        "        <li><a href=\"math\">Mathematical Functions</a></li>\n",
        "        <li><a href=\"lin\">Linspace</a></li>\n",
        "    </ul>\n",
        "    <p>\n",
        "        Estimated time needed: <strong>30 min</strong>\n",
        "    </p>\n",
        "</div>\n",
        "\n",
        "<hr>\n"
      ]
    },
    {
      "cell_type": "markdown",
      "metadata": {
        "id": "yMd-JJQicdhG",
        "colab_type": "text"
      },
      "source": [
        "<h2 id=\"pre\">Preparation</h2>\n"
      ]
    },
    {
      "cell_type": "code",
      "metadata": {
        "id": "mxgTbnpAcdhH",
        "colab_type": "code",
        "colab": {}
      },
      "source": [
        "# Import the libraries\n",
        "\n",
        "import time \n",
        "import sys\n",
        "import numpy as np \n",
        "\n",
        "import matplotlib.pyplot as plt\n",
        "%matplotlib inline  "
      ],
      "execution_count": null,
      "outputs": []
    },
    {
      "cell_type": "code",
      "metadata": {
        "id": "T0HNKZk5cdhK",
        "colab_type": "code",
        "colab": {}
      },
      "source": [
        "# Plotting functions\n",
        "\n",
        "def Plotvec1(u, z, v):\n",
        "    \n",
        "    ax = plt.axes()\n",
        "    ax.arrow(0, 0, *u, head_width=0.05, color='r', head_length=0.1)\n",
        "    plt.text(*(u + 0.1), 'u')\n",
        "    \n",
        "    ax.arrow(0, 0, *v, head_width=0.05, color='b', head_length=0.1)\n",
        "    plt.text(*(v + 0.1), 'v')\n",
        "    ax.arrow(0, 0, *z, head_width=0.05, head_length=0.1)\n",
        "    plt.text(*(z + 0.1), 'z')\n",
        "    plt.ylim(-2, 2)\n",
        "    plt.xlim(-2, 2)\n",
        "\n",
        "def Plotvec2(a,b):\n",
        "    ax = plt.axes()\n",
        "    ax.arrow(0, 0, *a, head_width=0.05, color ='r', head_length=0.1)\n",
        "    plt.text(*(a + 0.1), 'a')\n",
        "    ax.arrow(0, 0, *b, head_width=0.05, color ='b', head_length=0.1)\n",
        "    plt.text(*(b + 0.1), 'b')\n",
        "    plt.ylim(-2, 2)\n",
        "    plt.xlim(-2, 2)"
      ],
      "execution_count": null,
      "outputs": []
    },
    {
      "cell_type": "markdown",
      "metadata": {
        "id": "-waKebx0cdhN",
        "colab_type": "text"
      },
      "source": [
        "Create a Python List as follows:\n"
      ]
    },
    {
      "cell_type": "code",
      "metadata": {
        "id": "Cgjx-J2scdhN",
        "colab_type": "code",
        "colab": {}
      },
      "source": [
        "# Create a python list\n",
        "\n",
        "a = [\"0\", 1, \"two\", \"3\", 4]"
      ],
      "execution_count": null,
      "outputs": []
    },
    {
      "cell_type": "markdown",
      "metadata": {
        "id": "FaI5uUzrcdhQ",
        "colab_type": "text"
      },
      "source": [
        "We can access the data via an index:\n"
      ]
    },
    {
      "cell_type": "markdown",
      "metadata": {
        "id": "eHbNyUghcdhR",
        "colab_type": "text"
      },
      "source": [
        "<img src=\"https://s3-api.us-geo.objectstorage.softlayer.net/cf-courses-data/CognitiveClass/PY0101EN/Chapter%205/Images/NumOneList.png\" width=\"660\" />\n"
      ]
    },
    {
      "cell_type": "markdown",
      "metadata": {
        "id": "ecLBVAl2cdhR",
        "colab_type": "text"
      },
      "source": [
        "We can access each element using a square bracket as follows: \n"
      ]
    },
    {
      "cell_type": "code",
      "metadata": {
        "id": "XEoZkN_McdhS",
        "colab_type": "code",
        "colab": {}
      },
      "source": [
        "# Print each element\n",
        "\n",
        "print(\"a[0]:\", a[0])\n",
        "print(\"a[1]:\", a[1])\n",
        "print(\"a[2]:\", a[2])\n",
        "print(\"a[3]:\", a[3])\n",
        "print(\"a[4]:\", a[4])"
      ],
      "execution_count": null,
      "outputs": []
    },
    {
      "cell_type": "markdown",
      "metadata": {
        "id": "hGiTzYQocdhV",
        "colab_type": "text"
      },
      "source": [
        "<hr>\n"
      ]
    },
    {
      "cell_type": "markdown",
      "metadata": {
        "id": "5jqCj2-TcdhW",
        "colab_type": "text"
      },
      "source": [
        "<h2 id=\"numpy\">What is Numpy?</h2>\n"
      ]
    },
    {
      "cell_type": "markdown",
      "metadata": {
        "id": "Xve5rzUHcdhW",
        "colab_type": "text"
      },
      "source": [
        "A numpy array is similar to a list. It's usually fixed in size and each element is of the same type. We can cast a list to a numpy array by first importing numpy: \n"
      ]
    },
    {
      "cell_type": "code",
      "metadata": {
        "id": "wwSmY9G1cdhX",
        "colab_type": "code",
        "colab": {}
      },
      "source": [
        "# import numpy library\n",
        "\n",
        "import numpy as np "
      ],
      "execution_count": null,
      "outputs": []
    },
    {
      "cell_type": "markdown",
      "metadata": {
        "id": "Plvl22GUcdhZ",
        "colab_type": "text"
      },
      "source": [
        " We then cast the list as follows:\n"
      ]
    },
    {
      "cell_type": "code",
      "metadata": {
        "id": "EH2jmomAcdha",
        "colab_type": "code",
        "colab": {}
      },
      "source": [
        "# Create a numpy array\n",
        "\n",
        "a = np.array([0, 1, 2, 3, 4])\n",
        "a"
      ],
      "execution_count": null,
      "outputs": []
    },
    {
      "cell_type": "markdown",
      "metadata": {
        "id": "WLVckUPCcdhc",
        "colab_type": "text"
      },
      "source": [
        "Each element is of the same type, in this case integers: \n"
      ]
    },
    {
      "cell_type": "markdown",
      "metadata": {
        "id": "P8rAkct7cdhd",
        "colab_type": "text"
      },
      "source": [
        "<img src=\"https://s3-api.us-geo.objectstorage.softlayer.net/cf-courses-data/CognitiveClass/PY0101EN/Chapter%205/Images/NumOneNp.png\" width=\"500\" />\n"
      ]
    },
    {
      "cell_type": "markdown",
      "metadata": {
        "id": "oHJK3LZLcdhd",
        "colab_type": "text"
      },
      "source": [
        " As with lists, we can access each element via a square bracket:\n"
      ]
    },
    {
      "cell_type": "code",
      "metadata": {
        "id": "Agom_Dq0cdhd",
        "colab_type": "code",
        "colab": {}
      },
      "source": [
        "# Print each element\n",
        "\n",
        "print(\"a[0]:\", a[0])\n",
        "print(\"a[1]:\", a[1])\n",
        "print(\"a[2]:\", a[2])\n",
        "print(\"a[3]:\", a[3])\n",
        "print(\"a[4]:\", a[4])"
      ],
      "execution_count": null,
      "outputs": []
    },
    {
      "cell_type": "markdown",
      "metadata": {
        "id": "QmZ7w6hTcdhg",
        "colab_type": "text"
      },
      "source": [
        "<h3 id=\"type\">Type</h3>\n"
      ]
    },
    {
      "cell_type": "markdown",
      "metadata": {
        "id": "IlmbChB2cdhh",
        "colab_type": "text"
      },
      "source": [
        "If we check the type of the array we get <b>numpy.ndarray</b>:\n"
      ]
    },
    {
      "cell_type": "code",
      "metadata": {
        "id": "BdYmTPtVcdhh",
        "colab_type": "code",
        "colab": {}
      },
      "source": [
        "# Check the type of the array\n",
        "\n",
        "type(a)"
      ],
      "execution_count": null,
      "outputs": []
    },
    {
      "cell_type": "markdown",
      "metadata": {
        "id": "yI82sjl6cdhl",
        "colab_type": "text"
      },
      "source": [
        "As numpy arrays contain data of the same type, we can use the attribute \"dtype\" to obtain the Data-type of the array’s elements. In this case a 64-bit integer: \n"
      ]
    },
    {
      "cell_type": "code",
      "metadata": {
        "id": "iQEp_VLYcdhl",
        "colab_type": "code",
        "colab": {}
      },
      "source": [
        "# Check the type of the values stored in numpy array\n",
        "\n",
        "a.dtype"
      ],
      "execution_count": null,
      "outputs": []
    },
    {
      "cell_type": "markdown",
      "metadata": {
        "id": "-JfaUaQVcdho",
        "colab_type": "text"
      },
      "source": [
        "We can create a numpy array with real numbers:\n"
      ]
    },
    {
      "cell_type": "code",
      "metadata": {
        "id": "N4pvMWlscdho",
        "colab_type": "code",
        "colab": {}
      },
      "source": [
        "# Create a numpy array\n",
        "\n",
        "b = np.array([3.1, 11.02, 6.2, 213.2, 5.2])"
      ],
      "execution_count": null,
      "outputs": []
    },
    {
      "cell_type": "markdown",
      "metadata": {
        "id": "hK5wpduacdhr",
        "colab_type": "text"
      },
      "source": [
        "When we check the type of the array we get <b>numpy.ndarray</b>:\n"
      ]
    },
    {
      "cell_type": "code",
      "metadata": {
        "id": "4EhblE5ncdhr",
        "colab_type": "code",
        "colab": {}
      },
      "source": [
        "# Check the type of array\n",
        "\n",
        "type(b)"
      ],
      "execution_count": null,
      "outputs": []
    },
    {
      "cell_type": "markdown",
      "metadata": {
        "id": "DkR4NXc6cdht",
        "colab_type": "text"
      },
      "source": [
        "If we examine the attribute <code>dtype</code> we see float 64, as the elements are not integers: \n"
      ]
    },
    {
      "cell_type": "code",
      "metadata": {
        "id": "FzJYaxIPcdhu",
        "colab_type": "code",
        "colab": {}
      },
      "source": [
        "# Check the value type\n",
        "\n",
        "b.dtype"
      ],
      "execution_count": null,
      "outputs": []
    },
    {
      "cell_type": "markdown",
      "metadata": {
        "id": "6tdAJjLccdhw",
        "colab_type": "text"
      },
      "source": [
        "<h3 id=\"val\">Assign value</h3>\n"
      ]
    },
    {
      "cell_type": "markdown",
      "metadata": {
        "id": "llMgxzf_cdhw",
        "colab_type": "text"
      },
      "source": [
        "We can change the value of the array, consider the array <code>c</code>:\n"
      ]
    },
    {
      "cell_type": "code",
      "metadata": {
        "id": "GsuyDDhGcdhw",
        "colab_type": "code",
        "colab": {}
      },
      "source": [
        "# Create numpy array\n",
        "\n",
        "c = np.array([20, 1, 2, 3, 4])\n",
        "c"
      ],
      "execution_count": null,
      "outputs": []
    },
    {
      "cell_type": "markdown",
      "metadata": {
        "id": "TZK9x7lXcdhz",
        "colab_type": "text"
      },
      "source": [
        "We can change the first element of the array to 100 as follows:\n"
      ]
    },
    {
      "cell_type": "code",
      "metadata": {
        "id": "RkORboh4cdhz",
        "colab_type": "code",
        "colab": {}
      },
      "source": [
        "# Assign the first element to 100\n",
        "\n",
        "c[0] = 100\n",
        "c"
      ],
      "execution_count": null,
      "outputs": []
    },
    {
      "cell_type": "markdown",
      "metadata": {
        "id": "f2M-MBAhcdh2",
        "colab_type": "text"
      },
      "source": [
        "We can change the 5th element of the array to 0 as follows:\n"
      ]
    },
    {
      "cell_type": "code",
      "metadata": {
        "id": "nAf9_Y_dcdh2",
        "colab_type": "code",
        "colab": {}
      },
      "source": [
        "# Assign the 5th element to 0\n",
        "\n",
        "c[4] = 0\n",
        "c"
      ],
      "execution_count": null,
      "outputs": []
    },
    {
      "cell_type": "markdown",
      "metadata": {
        "id": "U2PokyTwcdh4",
        "colab_type": "text"
      },
      "source": [
        "<h3 id=\"slice\">Slicing</h3>\n"
      ]
    },
    {
      "cell_type": "markdown",
      "metadata": {
        "id": "3yBlPMp_cdh5",
        "colab_type": "text"
      },
      "source": [
        "Like lists, we can slice the numpy array, and we can select the elements from 1 to 3 and assign it to a new numpy array <code>d</code> as follows:\n"
      ]
    },
    {
      "cell_type": "code",
      "metadata": {
        "id": "YolDegHVcdh5",
        "colab_type": "code",
        "colab": {}
      },
      "source": [
        "# Slicing the numpy array\n",
        "\n",
        "d = c[1:4]\n",
        "d"
      ],
      "execution_count": null,
      "outputs": []
    },
    {
      "cell_type": "markdown",
      "metadata": {
        "id": "sljk-ne1cdh7",
        "colab_type": "text"
      },
      "source": [
        "We can assign the corresponding indexes to  new values as follows: \n"
      ]
    },
    {
      "cell_type": "code",
      "metadata": {
        "id": "Dg5FCTu7cdh7",
        "colab_type": "code",
        "colab": {}
      },
      "source": [
        "# Set the fourth element and fifth element to 300 and 400\n",
        "\n",
        "c[3:5] = 300, 400\n",
        "c"
      ],
      "execution_count": null,
      "outputs": []
    },
    {
      "cell_type": "markdown",
      "metadata": {
        "id": "meXIik-pcdh-",
        "colab_type": "text"
      },
      "source": [
        "<h3 id=\"list\">Assign Value with List</h3>\n"
      ]
    },
    {
      "cell_type": "markdown",
      "metadata": {
        "id": "GH00G_TTcdh-",
        "colab_type": "text"
      },
      "source": [
        "Similarly, we can use a list to select a specific index.\n",
        "The list ' select ' contains several values:\n"
      ]
    },
    {
      "cell_type": "code",
      "metadata": {
        "id": "RmBt_Dlfcdh-",
        "colab_type": "code",
        "colab": {}
      },
      "source": [
        "# Create the index list\n",
        "\n",
        "select = [0, 2, 3]"
      ],
      "execution_count": null,
      "outputs": []
    },
    {
      "cell_type": "markdown",
      "metadata": {
        "id": "-R8kFJrscdiB",
        "colab_type": "text"
      },
      "source": [
        "We can use the list as an argument in the brackets. The output is the elements corresponding to the particular index:\n"
      ]
    },
    {
      "cell_type": "code",
      "metadata": {
        "id": "CbEMfBX_cdiC",
        "colab_type": "code",
        "colab": {}
      },
      "source": [
        "# Use List to select elements\n",
        "\n",
        "d = c[select]\n",
        "d"
      ],
      "execution_count": null,
      "outputs": []
    },
    {
      "cell_type": "markdown",
      "metadata": {
        "id": "HSGF-M58cdiE",
        "colab_type": "text"
      },
      "source": [
        "We can assign the specified elements to a new value. For example, we can assign the values to 100 000 as follows:\n"
      ]
    },
    {
      "cell_type": "code",
      "metadata": {
        "id": "ltxPZom7cdiF",
        "colab_type": "code",
        "colab": {}
      },
      "source": [
        "# Assign the specified elements to new value\n",
        "\n",
        "c[select] = 100000\n",
        "c"
      ],
      "execution_count": null,
      "outputs": []
    },
    {
      "cell_type": "markdown",
      "metadata": {
        "id": "SHPQWs7hcdiH",
        "colab_type": "text"
      },
      "source": [
        "<h3 id=\"other\">Other Attributes</h3>\n"
      ]
    },
    {
      "cell_type": "markdown",
      "metadata": {
        "id": "XON8Ae87cdiI",
        "colab_type": "text"
      },
      "source": [
        "Let's review some basic array attributes using the array <code>a</code>:\n"
      ]
    },
    {
      "cell_type": "code",
      "metadata": {
        "id": "3aF3K6DScdiI",
        "colab_type": "code",
        "colab": {}
      },
      "source": [
        "# Create a numpy array\n",
        "\n",
        "a = np.array([0, 1, 2, 3, 4])\n",
        "a"
      ],
      "execution_count": null,
      "outputs": []
    },
    {
      "cell_type": "markdown",
      "metadata": {
        "id": "9tZrPhYJcdiK",
        "colab_type": "text"
      },
      "source": [
        "The attribute <code>size</code> is the number of elements in the array:\n"
      ]
    },
    {
      "cell_type": "code",
      "metadata": {
        "id": "5MwztyKFcdiK",
        "colab_type": "code",
        "colab": {}
      },
      "source": [
        "# Get the size of numpy array\n",
        "\n",
        "a.size"
      ],
      "execution_count": null,
      "outputs": []
    },
    {
      "cell_type": "markdown",
      "metadata": {
        "id": "YwtgyC0VcdiM",
        "colab_type": "text"
      },
      "source": [
        "The next two attributes will make more sense when we get to higher dimensions but let's review them. The attribute <code>ndim</code> represents the number of array dimensions or the rank of the array, in this case, one:\n"
      ]
    },
    {
      "cell_type": "code",
      "metadata": {
        "id": "YT-ZsfL4cdiN",
        "colab_type": "code",
        "colab": {}
      },
      "source": [
        "# Get the number of dimensions of numpy array\n",
        "\n",
        "a.ndim"
      ],
      "execution_count": null,
      "outputs": []
    },
    {
      "cell_type": "markdown",
      "metadata": {
        "id": "duAZRgXQcdiP",
        "colab_type": "text"
      },
      "source": [
        "The attribute <code>shape</code> is a tuple of integers indicating the size of the array in each dimension:\n"
      ]
    },
    {
      "cell_type": "code",
      "metadata": {
        "id": "Nd4u8JXMcdiP",
        "colab_type": "code",
        "colab": {}
      },
      "source": [
        "# Get the shape/size of numpy array\n",
        "\n",
        "a.shape"
      ],
      "execution_count": null,
      "outputs": []
    },
    {
      "cell_type": "code",
      "metadata": {
        "id": "Ro76LdaycdiS",
        "colab_type": "code",
        "colab": {}
      },
      "source": [
        "# Create a numpy array\n",
        "\n",
        "a = np.array([1, -1, 1, -1])"
      ],
      "execution_count": null,
      "outputs": []
    },
    {
      "cell_type": "code",
      "metadata": {
        "id": "788exd9gcdiU",
        "colab_type": "code",
        "colab": {}
      },
      "source": [
        "# Get the mean of numpy array\n",
        "\n",
        "mean = a.mean()\n",
        "mean"
      ],
      "execution_count": null,
      "outputs": []
    },
    {
      "cell_type": "code",
      "metadata": {
        "id": "6z4G8jwTcdiW",
        "colab_type": "code",
        "colab": {}
      },
      "source": [
        "# Get the standard deviation of numpy array\n",
        "\n",
        "standard_deviation=a.std()\n",
        "standard_deviation"
      ],
      "execution_count": null,
      "outputs": []
    },
    {
      "cell_type": "code",
      "metadata": {
        "id": "sdt8jaVGcdiY",
        "colab_type": "code",
        "colab": {}
      },
      "source": [
        "# Create a numpy array\n",
        "\n",
        "b = np.array([-1, 2, 3, 4, 5])\n",
        "b"
      ],
      "execution_count": null,
      "outputs": []
    },
    {
      "cell_type": "code",
      "metadata": {
        "id": "Mq-oClsXcdia",
        "colab_type": "code",
        "colab": {}
      },
      "source": [
        "# Get the biggest value in the numpy array\n",
        "\n",
        "max_b = b.max()\n",
        "max_b"
      ],
      "execution_count": null,
      "outputs": []
    },
    {
      "cell_type": "code",
      "metadata": {
        "id": "urhKsMS0cdid",
        "colab_type": "code",
        "colab": {}
      },
      "source": [
        "# Get the smallest value in the numpy array\n",
        "\n",
        "min_b = b.min()\n",
        "min_b"
      ],
      "execution_count": null,
      "outputs": []
    },
    {
      "cell_type": "markdown",
      "metadata": {
        "id": "naQ8pxz1cdig",
        "colab_type": "text"
      },
      "source": [
        "<hr>\n"
      ]
    },
    {
      "cell_type": "markdown",
      "metadata": {
        "id": "ocLxFpT3cdig",
        "colab_type": "text"
      },
      "source": [
        "<h2 id=\"op\">Numpy Array Operations</h2>\n"
      ]
    },
    {
      "cell_type": "markdown",
      "metadata": {
        "id": "m3sRfd5Xcdig",
        "colab_type": "text"
      },
      "source": [
        "<h3 id=\"add\">Array Addition</h3>\n"
      ]
    },
    {
      "cell_type": "markdown",
      "metadata": {
        "id": "f4_AEvjPcdih",
        "colab_type": "text"
      },
      "source": [
        "Consider the numpy array <code>u</code>:\n"
      ]
    },
    {
      "cell_type": "code",
      "metadata": {
        "id": "D48NbnMUcdih",
        "colab_type": "code",
        "colab": {}
      },
      "source": [
        "u = np.array([1, 0])\n",
        "u"
      ],
      "execution_count": null,
      "outputs": []
    },
    {
      "cell_type": "markdown",
      "metadata": {
        "id": "qyth9CZscdij",
        "colab_type": "text"
      },
      "source": [
        "Consider the numpy array <code>v</code>:\n"
      ]
    },
    {
      "cell_type": "code",
      "metadata": {
        "id": "sVfTLq4Scdij",
        "colab_type": "code",
        "colab": {}
      },
      "source": [
        "v = np.array([0, 1])\n",
        "v"
      ],
      "execution_count": null,
      "outputs": []
    },
    {
      "cell_type": "markdown",
      "metadata": {
        "id": "Y8TXeqOFcdil",
        "colab_type": "text"
      },
      "source": [
        "We can add the two arrays and assign it to z:\n"
      ]
    },
    {
      "cell_type": "code",
      "metadata": {
        "id": "82xmWh4Jcdin",
        "colab_type": "code",
        "colab": {}
      },
      "source": [
        "# Numpy Array Addition\n",
        "\n",
        "z = u + v\n",
        "z"
      ],
      "execution_count": null,
      "outputs": []
    },
    {
      "cell_type": "markdown",
      "metadata": {
        "id": "lJ1pzNVocdio",
        "colab_type": "text"
      },
      "source": [
        " The operation is equivalent to vector addition:\n"
      ]
    },
    {
      "cell_type": "code",
      "metadata": {
        "id": "u0FYS3gAcdip",
        "colab_type": "code",
        "colab": {}
      },
      "source": [
        "# Plot numpy arrays\n",
        "\n",
        "Plotvec1(u, z, v)"
      ],
      "execution_count": null,
      "outputs": []
    },
    {
      "cell_type": "markdown",
      "metadata": {
        "id": "8iVVBbJlcdir",
        "colab_type": "text"
      },
      "source": [
        "<h3 id=\"multi\">Array Multiplication</h3>\n"
      ]
    },
    {
      "cell_type": "markdown",
      "metadata": {
        "id": "i6q0f7ZYcdis",
        "colab_type": "text"
      },
      "source": [
        "Consider the vector numpy array <code>y</code>:\n"
      ]
    },
    {
      "cell_type": "code",
      "metadata": {
        "id": "MvdA2apncdis",
        "colab_type": "code",
        "colab": {}
      },
      "source": [
        "# Create a numpy array\n",
        "\n",
        "y = np.array([1, 2])\n",
        "y"
      ],
      "execution_count": null,
      "outputs": []
    },
    {
      "cell_type": "markdown",
      "metadata": {
        "id": "iYr_Ku9xcdiv",
        "colab_type": "text"
      },
      "source": [
        "We can multiply every element in the array by 2:\n"
      ]
    },
    {
      "cell_type": "code",
      "metadata": {
        "id": "lMtgA6DHcdiv",
        "colab_type": "code",
        "colab": {}
      },
      "source": [
        "# Numpy Array Multiplication\n",
        "\n",
        "z = 2 * y\n",
        "z"
      ],
      "execution_count": null,
      "outputs": []
    },
    {
      "cell_type": "markdown",
      "metadata": {
        "id": "2F4hevxOcdix",
        "colab_type": "text"
      },
      "source": [
        " This is equivalent to multiplying a vector by a scaler: \n"
      ]
    },
    {
      "cell_type": "markdown",
      "metadata": {
        "id": "DpvZBHPNcdiy",
        "colab_type": "text"
      },
      "source": [
        "<h3 id=\"prod\">Product of Two Numpy Arrays</h3>\n"
      ]
    },
    {
      "cell_type": "markdown",
      "metadata": {
        "id": "o1FyUUmfcdiy",
        "colab_type": "text"
      },
      "source": [
        "Consider the following array <code>u</code>:\n"
      ]
    },
    {
      "cell_type": "code",
      "metadata": {
        "id": "0yPtVD0ecdiz",
        "colab_type": "code",
        "colab": {}
      },
      "source": [
        "# Create a numpy array\n",
        "\n",
        "u = np.array([1, 2])\n",
        "u"
      ],
      "execution_count": null,
      "outputs": []
    },
    {
      "cell_type": "markdown",
      "metadata": {
        "id": "StbZVum-cdi1",
        "colab_type": "text"
      },
      "source": [
        "Consider the following array <code>v</code>:\n"
      ]
    },
    {
      "cell_type": "code",
      "metadata": {
        "id": "WW55x93jcdi1",
        "colab_type": "code",
        "colab": {}
      },
      "source": [
        "# Create a numpy array\n",
        "\n",
        "v = np.array([3, 2])\n",
        "v"
      ],
      "execution_count": null,
      "outputs": []
    },
    {
      "cell_type": "markdown",
      "metadata": {
        "id": "bbyu5J-Gcdi4",
        "colab_type": "text"
      },
      "source": [
        " The product of the two numpy arrays <code>u</code> and <code>v</code> is given by:\n"
      ]
    },
    {
      "cell_type": "code",
      "metadata": {
        "id": "Lr5Ky5kucdi4",
        "colab_type": "code",
        "colab": {}
      },
      "source": [
        "# Calculate the production of two numpy arrays\n",
        "\n",
        "z = u * v\n",
        "z"
      ],
      "execution_count": null,
      "outputs": []
    },
    {
      "cell_type": "markdown",
      "metadata": {
        "id": "If3yvgv6cdi6",
        "colab_type": "text"
      },
      "source": [
        "<h3 id=\"dot\">Dot Product</h3>\n"
      ]
    },
    {
      "cell_type": "markdown",
      "metadata": {
        "id": "WssKOtifcdi6",
        "colab_type": "text"
      },
      "source": [
        "The dot product of the two numpy arrays <code>u</code> and <code>v</code> is given by:\n"
      ]
    },
    {
      "cell_type": "code",
      "metadata": {
        "id": "jyDP8Z-icdi7",
        "colab_type": "code",
        "colab": {}
      },
      "source": [
        "# Calculate the dot product\n",
        "\n",
        "np.dot(u, v)"
      ],
      "execution_count": null,
      "outputs": []
    },
    {
      "cell_type": "markdown",
      "metadata": {
        "id": "diSwq2zHcdi-",
        "colab_type": "text"
      },
      "source": [
        "<h3 id=\"cons\">Adding Constant to a Numpy Array</h3>\n"
      ]
    },
    {
      "cell_type": "markdown",
      "metadata": {
        "id": "9wFwMslmcdi-",
        "colab_type": "text"
      },
      "source": [
        "Consider the following array: \n"
      ]
    },
    {
      "cell_type": "code",
      "metadata": {
        "id": "vncKocEgcdi-",
        "colab_type": "code",
        "colab": {}
      },
      "source": [
        "# Create a constant to numpy array\n",
        "\n",
        "u = np.array([1, 2, 3, -1]) \n",
        "u"
      ],
      "execution_count": null,
      "outputs": []
    },
    {
      "cell_type": "markdown",
      "metadata": {
        "id": "WoCU2fJxcdjA",
        "colab_type": "text"
      },
      "source": [
        "Adding the constant 1 to each element in the array:\n"
      ]
    },
    {
      "cell_type": "code",
      "metadata": {
        "id": "BNaNxLTVcdjA",
        "colab_type": "code",
        "colab": {}
      },
      "source": [
        "# Add the constant to array\n",
        "\n",
        "u + 1"
      ],
      "execution_count": null,
      "outputs": []
    },
    {
      "cell_type": "markdown",
      "metadata": {
        "id": "2NYxOJaIcdjD",
        "colab_type": "text"
      },
      "source": [
        " The process is summarised in the following animation:\n"
      ]
    },
    {
      "cell_type": "markdown",
      "metadata": {
        "id": "kEHCmjSgcdjD",
        "colab_type": "text"
      },
      "source": [
        "<img src=\"https://s3-api.us-geo.objectstorage.softlayer.net/cf-courses-data/CognitiveClass/PY0101EN/Chapter%205/Images/NumOneAdd.gif\" width=\"500\" />\n"
      ]
    },
    {
      "cell_type": "markdown",
      "metadata": {
        "id": "Ak6Rkak1cdjD",
        "colab_type": "text"
      },
      "source": [
        "<hr>\n"
      ]
    },
    {
      "cell_type": "markdown",
      "metadata": {
        "id": "G62SDz5icdjE",
        "colab_type": "text"
      },
      "source": [
        "<h2 id=\"math\">Mathematical Functions</h2>\n"
      ]
    },
    {
      "cell_type": "markdown",
      "metadata": {
        "id": "95QnzFuAcdjE",
        "colab_type": "text"
      },
      "source": [
        " We can access the value of pie in numpy as follows :\n"
      ]
    },
    {
      "cell_type": "code",
      "metadata": {
        "id": "wCJZbJnMcdjE",
        "colab_type": "code",
        "colab": {}
      },
      "source": [
        "# The value of pie\n",
        "\n",
        "np.pi"
      ],
      "execution_count": null,
      "outputs": []
    },
    {
      "cell_type": "markdown",
      "metadata": {
        "id": "WsOLE3xocdjH",
        "colab_type": "text"
      },
      "source": [
        " We can create the following numpy array in Radians:\n"
      ]
    },
    {
      "cell_type": "code",
      "metadata": {
        "id": "lro7rvLFcdjJ",
        "colab_type": "code",
        "colab": {}
      },
      "source": [
        "# Create the numpy array in radians\n",
        "\n",
        "x = np.array([0, np.pi/2 , np.pi])"
      ],
      "execution_count": null,
      "outputs": []
    },
    {
      "cell_type": "markdown",
      "metadata": {
        "id": "RNtDCzQDcdjL",
        "colab_type": "text"
      },
      "source": [
        "We can apply the function <code>sin</code> to the array <code>x</code> and assign the values to the array <code>y</code>; this applies the sine function to each element in the array:  \n"
      ]
    },
    {
      "cell_type": "code",
      "metadata": {
        "id": "-x0XO_TScdjL",
        "colab_type": "code",
        "colab": {}
      },
      "source": [
        "# Calculate the sin of each elements\n",
        "\n",
        "y = np.sin(x)\n",
        "y"
      ],
      "execution_count": null,
      "outputs": []
    },
    {
      "cell_type": "markdown",
      "metadata": {
        "id": "O9kVQ4sWcdjM",
        "colab_type": "text"
      },
      "source": [
        "<hr>\n"
      ]
    },
    {
      "cell_type": "markdown",
      "metadata": {
        "id": "Aua_ZJ2UcdjN",
        "colab_type": "text"
      },
      "source": [
        "<h2 id=\"lin\">Linspace</h2>\n"
      ]
    },
    {
      "cell_type": "markdown",
      "metadata": {
        "id": "JqYukJbOcdjN",
        "colab_type": "text"
      },
      "source": [
        " A useful function for plotting mathematical functions is \"linespace\".   Linespace returns evenly spaced numbers over a specified interval. We specify the starting point of the sequence and the ending point of the sequence. The parameter \"num\" indicates the Number of samples to generate, in this case 5:\n"
      ]
    },
    {
      "cell_type": "code",
      "metadata": {
        "id": "87oJ1D1scdjN",
        "colab_type": "code",
        "colab": {}
      },
      "source": [
        "# Makeup a numpy array within [-2, 2] and 5 elements\n",
        "\n",
        "np.linspace(-2, 2, num=5)"
      ],
      "execution_count": null,
      "outputs": []
    },
    {
      "cell_type": "markdown",
      "metadata": {
        "id": "QLwWyxgocdjP",
        "colab_type": "text"
      },
      "source": [
        "If we change the parameter <code>num</code> to 9, we get 9 evenly spaced numbers over the interval from -2 to 2: \n"
      ]
    },
    {
      "cell_type": "code",
      "metadata": {
        "id": "1MfPfny5cdjP",
        "colab_type": "code",
        "colab": {}
      },
      "source": [
        "# Makeup a numpy array within [-2, 2] and 9 elements\n",
        "\n",
        "np.linspace(-2, 2, num=9)"
      ],
      "execution_count": null,
      "outputs": []
    },
    {
      "cell_type": "markdown",
      "metadata": {
        "id": "ixEdqQPScdjR",
        "colab_type": "text"
      },
      "source": [
        "We can use the function line space to generate 100 evenly spaced samples from the interval 0 to 2π: \n"
      ]
    },
    {
      "cell_type": "code",
      "metadata": {
        "id": "QZASwS60cdjR",
        "colab_type": "code",
        "colab": {}
      },
      "source": [
        "# Makeup a numpy array within [0, 2π] and 100 elements \n",
        "\n",
        "x = np.linspace(0, 2*np.pi, num=100)"
      ],
      "execution_count": null,
      "outputs": []
    },
    {
      "cell_type": "markdown",
      "metadata": {
        "id": "8UmP12sqcdjS",
        "colab_type": "text"
      },
      "source": [
        "We can apply the sine function to each element in the array <code>x</code> and assign it to the array <code>y</code>: \n"
      ]
    },
    {
      "cell_type": "code",
      "metadata": {
        "id": "5Cm_La0WcdjT",
        "colab_type": "code",
        "colab": {}
      },
      "source": [
        "# Calculate the sine of x list\n",
        "\n",
        "y = np.sin(x)"
      ],
      "execution_count": null,
      "outputs": []
    },
    {
      "cell_type": "code",
      "metadata": {
        "id": "TNjRIB16cdjU",
        "colab_type": "code",
        "colab": {}
      },
      "source": [
        "# Plot the result\n",
        "\n",
        "plt.plot(x, y)"
      ],
      "execution_count": null,
      "outputs": []
    },
    {
      "cell_type": "markdown",
      "metadata": {
        "id": "VDwdpNmocdjW",
        "colab_type": "text"
      },
      "source": [
        "<hr>\n"
      ]
    },
    {
      "cell_type": "markdown",
      "metadata": {
        "id": "qmeJpjGlcdjW",
        "colab_type": "text"
      },
      "source": [
        "<h2 id=\"quiz\">Quiz on 1D Numpy Array</h2>\n"
      ]
    },
    {
      "cell_type": "markdown",
      "metadata": {
        "id": "w0m5CC3AcdjY",
        "colab_type": "text"
      },
      "source": [
        "Implement the following vector subtraction in numpy: u-v\n"
      ]
    },
    {
      "cell_type": "code",
      "metadata": {
        "id": "tckmV_EwcdjY",
        "colab_type": "code",
        "colab": {}
      },
      "source": [
        "# Write your code below and press Shift+Enter to execute\n",
        "\n",
        "u = np.array([1, 0])\n",
        "v = np.array([0, 1])"
      ],
      "execution_count": null,
      "outputs": []
    },
    {
      "cell_type": "markdown",
      "metadata": {
        "id": "p5AkAyFpcdja",
        "colab_type": "text"
      },
      "source": [
        "Double-click **here** for the solution.\n",
        "\n",
        "<!-- Your answer is below:\n",
        "u - v\n",
        "-->\n"
      ]
    },
    {
      "cell_type": "markdown",
      "metadata": {
        "id": "DVAJ2Caecdja",
        "colab_type": "text"
      },
      "source": [
        "<hr>\n"
      ]
    },
    {
      "cell_type": "markdown",
      "metadata": {
        "id": "kQNOrUijcdja",
        "colab_type": "text"
      },
      "source": [
        "Multiply the numpy array z with -2:\n"
      ]
    },
    {
      "cell_type": "code",
      "metadata": {
        "id": "JDsUiU5Wcdjb",
        "colab_type": "code",
        "colab": {}
      },
      "source": [
        "# Write your code below and press Shift+Enter to execute\n",
        "\n",
        "z = np.array([2, 4])"
      ],
      "execution_count": null,
      "outputs": []
    },
    {
      "cell_type": "markdown",
      "metadata": {
        "id": "PApaLJ-vcdjc",
        "colab_type": "text"
      },
      "source": [
        "Double-click **here** for the solution.\n",
        "\n",
        "<!-- Your answer is below:\n",
        "-2 * z\n",
        "-->\n"
      ]
    },
    {
      "cell_type": "markdown",
      "metadata": {
        "id": "jHDP67I7cdjc",
        "colab_type": "text"
      },
      "source": [
        "<hr>\n"
      ]
    },
    {
      "cell_type": "markdown",
      "metadata": {
        "id": "DfnzplXFcdjd",
        "colab_type": "text"
      },
      "source": [
        "Consider the list <code>[1, 2, 3, 4, 5]</code> and <code>[1, 0, 1, 0, 1]</code>, and cast both lists to a numpy array then multiply them together:\n"
      ]
    },
    {
      "cell_type": "code",
      "metadata": {
        "id": "nD_VXnJucdjd",
        "colab_type": "code",
        "colab": {}
      },
      "source": [
        "# Write your code below and press Shift+Enter to execute"
      ],
      "execution_count": null,
      "outputs": []
    },
    {
      "cell_type": "markdown",
      "metadata": {
        "id": "xVtgJq9Ocdje",
        "colab_type": "text"
      },
      "source": [
        "Double-click **here** for the solution.\n",
        "\n",
        "<!-- Your answer is below:\n",
        "a = np.array([1, 2, 3, 4, 5])\n",
        "b = np.array([1, 0, 1, 0, 1])\n",
        "a * b\n",
        "-->\n"
      ]
    },
    {
      "cell_type": "markdown",
      "metadata": {
        "id": "2WfGmnO2cdjf",
        "colab_type": "text"
      },
      "source": [
        "<hr>\n"
      ]
    },
    {
      "cell_type": "markdown",
      "metadata": {
        "id": "_KBqH7tdcdjf",
        "colab_type": "text"
      },
      "source": [
        "Convert the list <code>[-1, 1]</code> and <code>[1, 1]</code> to numpy arrays <code>a</code> and <code>b</code>.  Then, plot the arrays as vectors using the fuction <code>Plotvec2</code> and find the dot product:\n"
      ]
    },
    {
      "cell_type": "code",
      "metadata": {
        "id": "ttsR8t0_cdjf",
        "colab_type": "code",
        "colab": {}
      },
      "source": [
        "# Write your code below and press Shift+Enter to execute"
      ],
      "execution_count": null,
      "outputs": []
    },
    {
      "cell_type": "markdown",
      "metadata": {
        "id": "lmr14X8lcdjg",
        "colab_type": "text"
      },
      "source": [
        "Double-click **here** for the solution.\n",
        "\n",
        "<!-- Your answer is below:\n",
        "a = np.array([-1, 1])\n",
        "b = np.array([1, 1])\n",
        "Plotvec2(a, b)\n",
        "print(\"The dot product is\", np.dot(a,b))\n",
        "-->\n"
      ]
    },
    {
      "cell_type": "markdown",
      "metadata": {
        "id": "4BzlJQ-Xcdjh",
        "colab_type": "text"
      },
      "source": [
        "<hr>\n"
      ]
    },
    {
      "cell_type": "markdown",
      "metadata": {
        "id": "d14n-DQ7cdjh",
        "colab_type": "text"
      },
      "source": [
        "Convert the list <code>[1, 0]</code> and <code>[0, 1]</code> to numpy arrays <code>a</code> and <code>b</code>. Then, plot the arrays as vectors using the function <code>Plotvec2</code> and find the dot product:\n"
      ]
    },
    {
      "cell_type": "code",
      "metadata": {
        "id": "XnJbo73Ncdjh",
        "colab_type": "code",
        "colab": {}
      },
      "source": [
        "# Write your code below and press Shift+Enter to execute"
      ],
      "execution_count": null,
      "outputs": []
    },
    {
      "cell_type": "markdown",
      "metadata": {
        "id": "c8BNMOlAcdji",
        "colab_type": "text"
      },
      "source": [
        "Double-click **here** for the solution.\n",
        "\n",
        "<!-- \n",
        "a = np.array([1, 0])\n",
        "b = np.array([0, 1])\n",
        "Plotvec2(a, b)\n",
        "print(\"The dot product is\", np.dot(a, b))\n",
        " -->\n"
      ]
    },
    {
      "cell_type": "markdown",
      "metadata": {
        "id": "A-b2IH5Ocdji",
        "colab_type": "text"
      },
      "source": [
        "<hr>\n"
      ]
    },
    {
      "cell_type": "markdown",
      "metadata": {
        "id": "5tCrZdBscdjj",
        "colab_type": "text"
      },
      "source": [
        "Convert the list <code>[1, 1]</code> and <code>[0, 1]</code> to numpy arrays <code>a</code> and <code>b</code>. Then plot the arrays as vectors using the fuction <code>Plotvec2</code> and find the dot product:\n"
      ]
    },
    {
      "cell_type": "code",
      "metadata": {
        "id": "x9rIZthacdjj",
        "colab_type": "code",
        "colab": {}
      },
      "source": [
        "# Write your code below and press Shift+Enter to execute"
      ],
      "execution_count": null,
      "outputs": []
    },
    {
      "cell_type": "markdown",
      "metadata": {
        "id": "HaqHXEJccdjm",
        "colab_type": "text"
      },
      "source": [
        "Double-click **here** for the solution.\n",
        "\n",
        "<!-- \n",
        "a = np.array([1, 1])\n",
        "b = np.array([0, 1])\n",
        "Plotvec2(a, b)\n",
        "print(\"The dot product is\", np.dot(a, b))\n",
        "print(\"The dot product is\", np.dot(a, b))\n",
        " -->\n"
      ]
    },
    {
      "cell_type": "markdown",
      "metadata": {
        "id": "JI95Yoj3cdjm",
        "colab_type": "text"
      },
      "source": [
        "<hr>\n"
      ]
    },
    {
      "cell_type": "markdown",
      "metadata": {
        "id": "7S4nR5nPcdjm",
        "colab_type": "text"
      },
      "source": [
        "Why are the results of the dot product for <code>[-1, 1]</code> and <code>[1, 1]</code> and the dot product for <code>[1, 0]</code> and <code>[0, 1]</code> zero, but not zero for the dot product for <code>[1, 1]</code> and <code>[0, 1]</code>? <p><i>Hint: Study the corresponding figures, pay attention to the direction the arrows are pointing to.</i></p>\n"
      ]
    },
    {
      "cell_type": "code",
      "metadata": {
        "id": "1wqh3Ubkcdjm",
        "colab_type": "code",
        "colab": {}
      },
      "source": [
        "# Write your code below and press Shift+Enter to execute"
      ],
      "execution_count": null,
      "outputs": []
    },
    {
      "cell_type": "markdown",
      "metadata": {
        "id": "OxmljVWtcdjo",
        "colab_type": "text"
      },
      "source": [
        "Double-click **here** for the solution.\n",
        "\n",
        "<!-- \n",
        "The vectors used for question 4 and 5 are perpendicular. As a result, the dot product is zero. \n",
        "-->\n"
      ]
    },
    {
      "cell_type": "markdown",
      "metadata": {
        "id": "_5hBSxRfcdjo",
        "colab_type": "text"
      },
      "source": [
        "<hr>\n",
        "<h2>The last exercise!</h2>\n",
        "<p>Congratulations, you have completed your first lesson and hands-on lab in Python. However, there is one more thing you need to do. The Data Science community encourages sharing work. The best way to share and showcase your work is to share it on GitHub. By sharing your notebook on GitHub you are not only building your reputation with fellow data scientists, but you can also show it off when applying for a job. Even though this was your first piece of work, it is never too early to start building good habits. So, please read and follow <a href=\"https://cognitiveclass.ai/blog/data-scientists-stand-out-by-sharing-your-notebooks/\" target=\"_blank\">this article</a> to learn how to share your work.\n",
        "<hr>\n"
      ]
    },
    {
      "cell_type": "markdown",
      "metadata": {
        "id": "P5BdjSk5cdjo",
        "colab_type": "text"
      },
      "source": [
        "## Author\n",
        "\n",
        "<a href=\"https://www.linkedin.com/in/joseph-s-50398b136/\" target=\"_blank\">Joseph Santarcangelo</a>\n",
        "\n",
        "## Other contributors\n",
        "\n",
        "<a href=\"www.linkedin.com/in/jiahui-mavis-zhou-a4537814a\">Mavis Zhou</a>\n",
        "\n",
        "## Change Log\n",
        "\n",
        "| Date (YYYY-MM-DD) | Version | Changed By | Change Description                 |\n",
        "| ----------------- | ------- | ---------- | ---------------------------------- |\n",
        "| 2020-08-26        | 2.0     | Lavanya    | Moved lab to course repo in GitLab |\n",
        "|                   |         |            |                                    |\n",
        "|                   |         |            |                                    |\n",
        "\n",
        "<hr/>\n",
        "\n",
        "## <h3 align=\"center\"> © IBM Corporation 2020. All rights reserved. <h3/>\n"
      ]
    }
  ]
}