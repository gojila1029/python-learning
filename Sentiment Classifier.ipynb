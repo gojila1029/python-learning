with open('project_twitter_data.csv', 'r') as f1:
    def tweet(f, num_tweet=[]):
        line=f.readlines()
        head=line[0]
        for i in line:
            if i!=head:
                num_tweet.append(i.split(',')[0])
        return num_tweet
    
    def retweet(f,num_retweet=[]):
        line=f.readlines()
        head=line[0]
        for i in line:
            if i!=head:
                num_retweet.append(i.split(',')[1])
        return num_retweet
    
    def reply(f, num_reply=[]):
        line=f.readlines()
        head=line[0]
        for i in line:
            if i!=head:
                num_reply.append(i.split(',')[2].replace('\n', ''))
        return num_reply
    
    def net_scores(pos_score, neg_score, net_score=[]):
        i=0
        for _ in pos_score:
            net_score.append(str(int(pos_score[i])-int(neg_score[i])))
            i+=1
        return net_score   
    
punctuation_chars = ["'", '"', ",", ".", "!", ":", ";", '#', '@']
# lists of words to use
positive_words = []
with open("positive_words.txt",'r') as pos_f:
    for lin in pos_f:
        if lin[0] != ';' and lin[0] != '\n':
            positive_words.append(lin.strip())
            
    def strip_punctuation(x):
        for i in x:
            if i in punctuation_chars:
                x=x.replace(i, "")
            else:
                continue
        return x        
    
    def get_pos(lis):
        pos_num=0
        for i in lis.split(' '):
            conv=strip_punctuation(i.lower())
            if conv in positive_words:
                pos_num+=1
            else:
                continue
        return pos_num
    
    def num_of_pos(tweet, num_pos=[]):
        for i in tweet:
            num_pos.append(get_pos(i))
        return num_pos

negative_words = []
with open("negative_words.txt",'r') as pos_f:
    for lin in pos_f:
        if lin[0] != ';' and lin[0] != '\n':
            negative_words.append(lin.strip())
     
    def strip_punctuation(x):
        for i in x:
            if i in punctuation_chars:
                x=x.replace(i, "")
            else:
                continue
        return x
    
    def get_neg(lis):
        neg_num=0
        for i in lis.split(' '):
            conv=strip_punctuation(i.lower())
            if conv in negative_words:
                neg_num+=1
            else:
                continue
        return neg_num
    
    def num_of_neg(tweet, num_neg=[]):
        for i in tweet:
            num_neg.append(get_neg(i))
        return num_neg
    
    dic={1:retweet(f1), 2:reply(f1), 3:num_of_pos(tweet(f1)), 4:num_of_neg(tweet(f1)), 
                5:net_scores(num_of_pos(tweet(f1)), num_of_neg(tweet(f1)))}
    
with open('resulting_data.csv', 'w') as f2:
    f2.write("{}, {}, {}, {}, {}".format('Number of Retweets', 'Number of Replies', 'Positive Score','Negative Score', 'Net Score\n'))
    for i in range(len(dic[1])):
        f2.write("{}, {}, {}, {}, {}\n".format(dic[1][i], dic[2][i],str(dic[3][i]), str(dic[4][i]), dic[5][i]))

    
    
