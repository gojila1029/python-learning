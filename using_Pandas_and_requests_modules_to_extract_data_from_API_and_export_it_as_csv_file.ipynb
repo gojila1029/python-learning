{
  "nbformat": 4,
  "nbformat_minor": 0,
  "metadata": {
    "colab": {
      "name": "using Pandas and requests modules to extract data from API and export it as csv file",
      "provenance": [],
      "authorship_tag": "ABX9TyPp64NxgRIBre3tUUKlxvpb",
      "include_colab_link": true
    },
    "kernelspec": {
      "name": "python3",
      "display_name": "Python 3"
    }
  },
  "cells": [
    {
      "cell_type": "markdown",
      "metadata": {
        "id": "view-in-github",
        "colab_type": "text"
      },
      "source": [
        "<a href=\"https://colab.research.google.com/github/gojila1029/python-learning/blob/master/using_Pandas_and_requests_modules_to_extract_data_from_API_and_export_it_as_csv_file.ipynb\" target=\"_parent\"><img src=\"https://colab.research.google.com/assets/colab-badge.svg\" alt=\"Open In Colab\"/></a>"
      ]
    },
    {
      "cell_type": "code",
      "metadata": {
        "id": "dnl0XD0Nmzfg",
        "colab_type": "code",
        "colab": {
          "base_uri": "https://localhost:8080/",
          "height": 385
        },
        "outputId": "8fc69c09-a236-49fe-88ec-ec7a81a18869"
      },
      "source": [
        "import requests \n",
        "import json \n",
        "import pandas as pd\n",
        "def autom(word,d={}):\n",
        "  base_url=\"https://api.datamuse.com/sug\"\n",
        "  d[input('autocomplete parameter: ')]=word\n",
        "  resp=requests.get(base_url, params=d)\n",
        "  word_d=resp.json()\n",
        "  return [d['word'] for d in word_d]\n",
        "\n",
        "def w(word, d={}):\n",
        "  base_url=\"https://api.datamuse.com/words\"\n",
        "  d[input('Parameter1:')]=word\n",
        "  resp=requests.get(base_url, params=d)\n",
        "  word_d=resp.json()\n",
        "  return word_d\n",
        "\n",
        "def use_pandas(p):\n",
        "  word=pd.DataFrame(p)\n",
        "  from google.colab import drive\n",
        "  drive.mount('/gdrive')\n",
        "  word.to_csv('/gdrive/My Drive/export_data.csv')\n",
        "  return word\n",
        "a=0\n",
        "b=True\n",
        "c=0\n",
        "while b:\n",
        "  a=input('Type in: ')\n",
        "  if a=='0':\n",
        "    b=False\n",
        "  else:\n",
        "    c=a[:]\n",
        "    print(autom(a))\n",
        "print(use_pandas(w(c)))  \n"
      ],
      "execution_count": 49,
      "outputs": [
        {
          "output_type": "stream",
          "text": [
            "Type in: love\n",
            "autocomplete parameter: s\n",
            "['love', 'lovely', 'lover', 'lovelorn', 'loved', 'lovebird', 'loveseat', 'lovesick', 'lovelace', 'loveable']\n",
            "Type in: 0\n",
            "Parameter1:ml\n",
            "Mounted at /gdrive\n",
            "         word   score           tags\n",
            "0     passion  112761       [syn, n]\n",
            "1       enjoy  106954       [syn, v]\n",
            "2     beloved  106659     [syn, adj]\n",
            "3        dear  104760  [syn, n, adj]\n",
            "4     dearest  104078  [syn, n, adj]\n",
            "..        ...     ...            ...\n",
            "95  favourite   77772            [n]\n",
            "96       care   77717            [n]\n",
            "97      wants   77542            [v]\n",
            "98       jazz   77203            [n]\n",
            "99   worships   77170            [n]\n",
            "\n",
            "[100 rows x 3 columns]\n"
          ],
          "name": "stdout"
        }
      ]
    }
  ]
}