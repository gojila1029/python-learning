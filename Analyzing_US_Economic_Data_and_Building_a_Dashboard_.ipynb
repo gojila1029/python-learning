{
  "nbformat": 4,
  "nbformat_minor": 0,
  "metadata": {
    "kernelspec": {
      "display_name": "Python 3",
      "language": "python",
      "name": "python3"
    },
    "language_info": {
      "codemirror_mode": {
        "name": "ipython",
        "version": 3
      },
      "file_extension": ".py",
      "mimetype": "text/x-python",
      "name": "python",
      "nbconvert_exporter": "python",
      "pygments_lexer": "ipython3",
      "version": "3.6.8"
    },
    "colab": {
      "name": "Analyzing US Economic Data and Building a Dashboard .ipynb",
      "provenance": [],
      "include_colab_link": true
    }
  },
  "cells": [
    {
      "cell_type": "markdown",
      "metadata": {
        "id": "view-in-github",
        "colab_type": "text"
      },
      "source": [
        "<a href=\"https://colab.research.google.com/github/gojila1029/python-learning/blob/master/Analyzing_US_Economic_Data_and_Building_a_Dashboard_.ipynb\" target=\"_parent\"><img src=\"https://colab.research.google.com/assets/colab-badge.svg\" alt=\"Open In Colab\"/></a>"
      ]
    },
    {
      "cell_type": "markdown",
      "metadata": {
        "id": "OYC6lU0_iMib"
      },
      "source": [
        "<a><img src=\"https://ibm.box.com/shared/static/ugcqz6ohbvff804xp84y4kqnvvk3bq1g.png\" width=\"200\" align=\"center\"></a>"
      ]
    },
    {
      "cell_type": "markdown",
      "metadata": {
        "id": "XsXxhsKJiMid"
      },
      "source": [
        "<h1>Analyzing US Economic Data and  Building a Dashboard  </h1>\n",
        "<h2>Description</h2>\n"
      ]
    },
    {
      "cell_type": "markdown",
      "metadata": {
        "id": "beQdpnDiiMid"
      },
      "source": [
        "Extracting essential data from a dataset and displaying it is a necessary part of data science; therefore individuals can make correct decisions based on the data. In this assignment, you will extract some essential economic indicators from some data, you will then display these economic indicators in a Dashboard. You can then share the dashboard via an URL.\n",
        "<p>\n",
        "<a href=\"https://en.wikipedia.org/wiki/Gross_domestic_product\"> Gross domestic product (GDP)</a> is a measure of the market value of all the final goods and services produced in a period. GDP is an indicator of how well the economy is doing. A drop in GDP indicates the economy is producing less; similarly an increase in GDP suggests the economy is performing better. In this lab, you will examine how changes in GDP impact the unemployment rate. You will take screen shots of every step, you will share the notebook and the URL pointing to the dashboard.</p>"
      ]
    },
    {
      "cell_type": "markdown",
      "metadata": {
        "id": "0bLSfiX8iMie"
      },
      "source": [
        "<h2>Table of Contents</h2>\n",
        "<div class=\"alert alert-block alert-info\" style=\"margin-top: 20px\">\n",
        "    <ul>\n",
        "        <li><a href=\"#Section_1\"> Define a Function that Makes a Dashboard </a></li>\n",
        "    <li><a href=\"#Section_2\">Question 1: Create a dataframe that contains the GDP data and display it</a> </li>\n",
        "    <li><a href=\"#Section_3\">Question 2: Create a dataframe that contains the unemployment data and display it</a></li>\n",
        "    <li><a href=\"#Section_4\">Question 3: Display a dataframe where unemployment was greater than 8.5%</a></li>\n",
        "    <li><a href=\"#Section_5\">Question 4: Use the function make_dashboard to make a dashboard</a></li>\n",
        "        <li><a href=\"#Section_6\"><b>(Optional not marked)</b> Save the dashboard on IBM cloud and display it</a></li>\n",
        "    </ul>\n",
        "<p>\n",
        "    Estimated Time Needed: <strong>180 min</strong></p>\n",
        "</div>\n",
        "\n",
        "<hr>"
      ]
    },
    {
      "cell_type": "markdown",
      "metadata": {
        "id": "UzF-LjEqiMif"
      },
      "source": [
        "<h2 id=\"Section_1\"> Define Function that Makes a Dashboard  </h2>"
      ]
    },
    {
      "cell_type": "markdown",
      "metadata": {
        "id": "lb7FTG5PiMif"
      },
      "source": [
        "We will import the following libraries."
      ]
    },
    {
      "cell_type": "code",
      "metadata": {
        "id": "nsVYEOHFiMig"
      },
      "source": [
        "import pandas as pd\n",
        "from bokeh.plotting import figure, output_file, show,output_notebook\n",
        "output_notebook()"
      ],
      "execution_count": null,
      "outputs": []
    },
    {
      "cell_type": "markdown",
      "metadata": {
        "id": "C-TMeMejiMij"
      },
      "source": [
        "In this section, we define the function <code>make_dashboard</code>. \n",
        "You don't have to know how the function works, you should only care about the inputs. The function will produce a dashboard as well as an html file. You can then use this html file to share your dashboard. If you do not know what an html file is don't worry everything you need to know will be provided in the lab. "
      ]
    },
    {
      "cell_type": "code",
      "metadata": {
        "id": "GDW8Y9uJiMij"
      },
      "source": [
        "def make_dashboard(x, gdp_change, unemployment, title, file_name):\n",
        "    output_file(file_name)\n",
        "    p = figure(title=title, x_axis_label='year', y_axis_label='%')\n",
        "    p.line(x.squeeze(), gdp_change.squeeze(), color=\"firebrick\", line_width=4, legend=\"% GDP change\")\n",
        "    p.line(x.squeeze(), unemployment.squeeze(), line_width=4, legend=\"% unemployed\")\n",
        "    show(p)"
      ],
      "execution_count": null,
      "outputs": []
    },
    {
      "cell_type": "markdown",
      "metadata": {
        "id": "8C7IpT5viMim"
      },
      "source": [
        "The dictionary  <code>links</code> contain the CSV files with all the data. The value for the key <code>GDP</code> is the file that contains the GDP data. The value for the key <code>unemployment</code> contains the unemployment data."
      ]
    },
    {
      "cell_type": "code",
      "metadata": {
        "id": "ryfV0rZkiMim"
      },
      "source": [
        "links={'GDP':'https://s3-api.us-geo.objectstorage.softlayer.net/cf-courses-data/CognitiveClass/PY0101EN/projects/coursera_project/clean_gdp.csv',\\\n",
        "       'unemployment':'https://s3-api.us-geo.objectstorage.softlayer.net/cf-courses-data/CognitiveClass/PY0101EN/projects/coursera_project/clean_unemployment.csv'}"
      ],
      "execution_count": null,
      "outputs": []
    },
    {
      "cell_type": "markdown",
      "metadata": {
        "id": "XWj7mQEhiMip"
      },
      "source": [
        "<h3 id=\"Section_2\"> Question 1: Create a dataframe that contains the GDP data and display the first five rows of the dataframe.</h3>"
      ]
    },
    {
      "cell_type": "markdown",
      "metadata": {
        "id": "a4gk88xfiMip"
      },
      "source": [
        "Use the dictionary <code>links</code> and the function <code>pd.read_csv</code> to create a Pandas dataframes that contains the GDP data."
      ]
    },
    {
      "cell_type": "markdown",
      "metadata": {
        "id": "2IjR3kesiMip"
      },
      "source": [
        "<b>Hint: <code>links[\"GDP\"]</code> contains the path or name of the file.</b>"
      ]
    },
    {
      "cell_type": "code",
      "metadata": {
        "id": "CZsG10v2iMiq"
      },
      "source": [
        "# Type your code here"
      ],
      "execution_count": null,
      "outputs": []
    },
    {
      "cell_type": "markdown",
      "metadata": {
        "id": "8GS85GRdiMis"
      },
      "source": [
        "Use the method <code>head()</code> to display the first five rows of the GDP data, then take a screen-shot."
      ]
    },
    {
      "cell_type": "code",
      "metadata": {
        "id": "Cqtpm45EiMit"
      },
      "source": [
        "# Type your code here"
      ],
      "execution_count": null,
      "outputs": []
    },
    {
      "cell_type": "markdown",
      "metadata": {
        "id": "10BqN-7yiMiv"
      },
      "source": [
        "<h3 id=\"Section_2\"> Question 2: Create a dataframe that contains the unemployment data. Display the first five rows of the dataframe. </h3>"
      ]
    },
    {
      "cell_type": "markdown",
      "metadata": {
        "id": "kbSExH_giMiw"
      },
      "source": [
        "Use the dictionary <code>links</code> and the function <code>pd.read_csv</code> to create a Pandas dataframes that contains the unemployment data."
      ]
    },
    {
      "cell_type": "code",
      "metadata": {
        "id": "NZCbFSWLiMiw"
      },
      "source": [
        "# Type your code here"
      ],
      "execution_count": null,
      "outputs": []
    },
    {
      "cell_type": "markdown",
      "metadata": {
        "id": "ZD28E8HMiMiy"
      },
      "source": [
        "Use the method <code>head()</code> to display the first five rows of the GDP data, then take a screen-shot."
      ]
    },
    {
      "cell_type": "code",
      "metadata": {
        "id": "E5woF5ChiMiz"
      },
      "source": [
        "# Type your code here"
      ],
      "execution_count": null,
      "outputs": []
    },
    {
      "cell_type": "markdown",
      "metadata": {
        "id": "FuUJ--fciMi1"
      },
      "source": [
        "<h3 id=\"Section_3\">Question 3: Display a dataframe where unemployment was greater than 8.5%. Take a screen-shot.</h3>"
      ]
    },
    {
      "cell_type": "code",
      "metadata": {
        "id": "x2DbjiqgiMi2"
      },
      "source": [
        "# Type your code here"
      ],
      "execution_count": null,
      "outputs": []
    },
    {
      "cell_type": "markdown",
      "metadata": {
        "id": "e5XO_IBYiMi5"
      },
      "source": [
        "<h3 id=\"Section_4\">Question 4: Use the function make_dashboard to make a dashboard</h3>"
      ]
    },
    {
      "cell_type": "markdown",
      "metadata": {
        "id": "-t7oupKciMi6"
      },
      "source": [
        "In this section, you will call the function  <code>make_dashboard</code> , to produce a dashboard. We will use the convention of giving each variable the same name as the function parameter."
      ]
    },
    {
      "cell_type": "markdown",
      "metadata": {
        "id": "TOUuRWjniMi7"
      },
      "source": [
        "Create a new dataframe with the column <code>'date'</code> called <code>x</code> from the dataframe that contains the GDP data."
      ]
    },
    {
      "cell_type": "code",
      "metadata": {
        "id": "aLmMUTx9iMi7"
      },
      "source": [
        "x = # Create your dataframe with column date"
      ],
      "execution_count": null,
      "outputs": []
    },
    {
      "cell_type": "markdown",
      "metadata": {
        "id": "Bh3Mvw2KiMi-"
      },
      "source": [
        "Create a new dataframe with the column <code>'change-current' </code> called <code>gdp_change</code>  from the dataframe that contains the GDP data."
      ]
    },
    {
      "cell_type": "code",
      "metadata": {
        "id": "15vHprRmiMi-"
      },
      "source": [
        "gdp_change = # Create your dataframe with column change-current"
      ],
      "execution_count": null,
      "outputs": []
    },
    {
      "cell_type": "markdown",
      "metadata": {
        "id": "JzneNx9giMjA"
      },
      "source": [
        "Create a new dataframe with the column <code>'unemployment' </code> called <code>unemployment</code>  from the dataframe that contains the  unemployment data."
      ]
    },
    {
      "cell_type": "code",
      "metadata": {
        "id": "te8XbwleiMjA"
      },
      "source": [
        "unemployment = # Create your dataframe with column unemployment"
      ],
      "execution_count": null,
      "outputs": []
    },
    {
      "cell_type": "markdown",
      "metadata": {
        "id": "EGLVw2yliMjD"
      },
      "source": [
        "Give your dashboard a string title, and assign it to the variable <code>title</code>"
      ]
    },
    {
      "cell_type": "code",
      "metadata": {
        "id": "8R-9Cdh4iMjD"
      },
      "source": [
        "title = # Give your dashboard a string title"
      ],
      "execution_count": null,
      "outputs": []
    },
    {
      "cell_type": "markdown",
      "metadata": {
        "id": "E1G-3_NwiMjF"
      },
      "source": [
        "Finally, the function <code>make_dashboard</code> will output an <code>.html</code> in your direictory, just like a <code>csv</code> file. The name of the file is <code>\"index.html\"</code> and it will be stored in the varable  <code>file_name</code>."
      ]
    },
    {
      "cell_type": "code",
      "metadata": {
        "id": "VuoIGH_1iMjG"
      },
      "source": [
        "file_name = \"index.html\""
      ],
      "execution_count": null,
      "outputs": []
    },
    {
      "cell_type": "markdown",
      "metadata": {
        "id": "BHDULxUOiMjI"
      },
      "source": [
        "Call the function <code>make_dashboard</code> , to produce a dashboard.  Assign the parameter values accordingly take a the <b>, take a screen shot of the dashboard and submit it</b>."
      ]
    },
    {
      "cell_type": "code",
      "metadata": {
        "id": "7arN8E_JiMjI"
      },
      "source": [
        "# Fill up the parameters in the following function:\n",
        "# make_dashboard(x=, gdp_change=, unemployment=, title=, file_name=)"
      ],
      "execution_count": null,
      "outputs": []
    },
    {
      "cell_type": "markdown",
      "metadata": {
        "id": "r-vzhUPMiMjK"
      },
      "source": [
        "<h3 id=\"Section_5\"> <b>(Optional not marked)</b>Save the dashboard on IBM cloud and display it  </h3>"
      ]
    },
    {
      "cell_type": "markdown",
      "metadata": {
        "id": "JyHz1PN4iMjL"
      },
      "source": [
        "From the tutorial <i>PROVISIONING AN OBJECT STORAGE INSTANCE ON IBM CLOUD</i> copy the JSON object containing the credentials you created. You’ll want to store everything you see in a credentials variable like the one below (obviously, replace the placeholder values with your own). Take special note of your <code>access_key_id</code> and <code>secret_access_key</code>. <b>Do not delete <code># @hidden_cell </code> as this will not allow people to see your credentials when you share your notebook. </b>"
      ]
    },
    {
      "cell_type": "markdown",
      "metadata": {
        "id": "CqRJGgs2iMjL"
      },
      "source": [
        "<code>\n",
        "credentials = {<br>\n",
        " &nbsp; \"apikey\": \"your-api-key\",<br>\n",
        " &nbsp; \"cos_hmac_keys\": {<br>\n",
        " &nbsp;  \"access_key_id\": \"your-access-key-here\", <br>\n",
        " &nbsp;   \"secret_access_key\": \"your-secret-access-key-here\"<br>\n",
        " &nbsp; },<br>\n",
        "</code>\n",
        "<code>\n",
        "   &nbsp;\"endpoints\": \"your-endpoints\",<br>\n",
        " &nbsp; \"iam_apikey_description\": \"your-iam_apikey_description\",<br>\n",
        " &nbsp; \"iam_apikey_name\": \"your-iam_apikey_name\",<br>\n",
        " &nbsp; \"iam_role_crn\": \"your-iam_apikey_name\",<br>\n",
        " &nbsp;  \"iam_serviceid_crn\": \"your-iam_serviceid_crn\",<br>\n",
        " &nbsp;\"resource_instance_id\": \"your-resource_instance_id\"<br>\n",
        "}\n",
        "</code>"
      ]
    },
    {
      "cell_type": "code",
      "metadata": {
        "id": "X_-S14WtiMjL"
      },
      "source": [
        "# @hidden_cell\n",
        "#"
      ],
      "execution_count": null,
      "outputs": []
    },
    {
      "cell_type": "markdown",
      "metadata": {
        "id": "KktzmCM-iMjN"
      },
      "source": [
        "You will need the endpoint make sure the setting are the same as <i> PROVISIONING AN OBJECT STORAGE INSTANCE ON IBM CLOUD </i> assign the name of your bucket to the variable  <code>bucket_name </code> "
      ]
    },
    {
      "cell_type": "code",
      "metadata": {
        "id": "Z5YBO_SfiMjN"
      },
      "source": [
        "endpoint = 'https://s3-api.us-geo.objectstorage.softlayer.net'"
      ],
      "execution_count": null,
      "outputs": []
    },
    {
      "cell_type": "markdown",
      "metadata": {
        "id": "KQFCW6S3iMjP"
      },
      "source": [
        "From the tutorial <i> PROVISIONING AN OBJECT STORAGE INSTANCE ON IBM CLOUD </i> assign the name of your bucket to the variable  <code>bucket_name </code> "
      ]
    },
    {
      "cell_type": "code",
      "metadata": {
        "id": "l0nB3Hq-iMjP"
      },
      "source": [
        "bucket_name = # Type your bucket name on IBM Cloud"
      ],
      "execution_count": null,
      "outputs": []
    },
    {
      "cell_type": "markdown",
      "metadata": {
        "id": "qaqRjjzkiMjR"
      },
      "source": [
        "We can access IBM Cloud Object Storage with Python useing the <code>boto3</code> library, which we’ll import below:"
      ]
    },
    {
      "cell_type": "code",
      "metadata": {
        "id": "gG6_aUnuiMjS"
      },
      "source": [
        "import boto3"
      ],
      "execution_count": null,
      "outputs": []
    },
    {
      "cell_type": "markdown",
      "metadata": {
        "id": "GhIerrijiMjU"
      },
      "source": [
        "We can interact with IBM Cloud Object Storage through a <code>boto3</code> resource object."
      ]
    },
    {
      "cell_type": "code",
      "metadata": {
        "id": "JCipctF4iMjU"
      },
      "source": [
        "resource = boto3.resource(\n",
        "    's3',\n",
        "    aws_access_key_id = credentials[\"cos_hmac_keys\"]['access_key_id'],\n",
        "    aws_secret_access_key = credentials[\"cos_hmac_keys\"][\"secret_access_key\"],\n",
        "    endpoint_url = endpoint,\n",
        ")"
      ],
      "execution_count": null,
      "outputs": []
    },
    {
      "cell_type": "markdown",
      "metadata": {
        "id": "YhS-8QAbiMjX"
      },
      "source": [
        "We are going to use  <code>open</code> to create a file object. To get the path of the file, you are going to concatenate the name of the file stored in the variable <code>file_name</code>. The directory stored in the variable directory using the <code>+</code> operator and assign it to the variable \n",
        "<code>html_path</code>. We will use the function <code>getcwd()</code> to find current the working directory."
      ]
    },
    {
      "cell_type": "code",
      "metadata": {
        "id": "PK2le8GCiMjY"
      },
      "source": [
        "import os\n",
        "\n",
        "directory = os.getcwd()\n",
        "html_path = directory + \"/\" + file_name"
      ],
      "execution_count": null,
      "outputs": []
    },
    {
      "cell_type": "markdown",
      "metadata": {
        "id": "fPPqqTRXiMjZ"
      },
      "source": [
        "Now you must read the html file, use the function <code>f = open(html_path, mode)</code> to create a file object and assign it to the variable <code>f</code>. The parameter <code>file</code> should be the variable <code>html_path</code>, the mode should be <code>\"r\"</code> for read. "
      ]
    },
    {
      "cell_type": "code",
      "metadata": {
        "id": "2GKSYjyCiMja"
      },
      "source": [
        "# Type your code here"
      ],
      "execution_count": null,
      "outputs": []
    },
    {
      "cell_type": "markdown",
      "metadata": {
        "id": "uN-1zpo6iMjc"
      },
      "source": [
        "To load your dataset into the bucket we will use the method <code>put_object</code>, you must set the parameter name to the name of the bucket, the parameter <code>Key</code> should be the name of the HTML file and the value for the parameter Body  should be set to <code>f.read()</code>."
      ]
    },
    {
      "cell_type": "code",
      "metadata": {
        "id": "fPhqmjz1iMjd"
      },
      "source": [
        "# Fill up the parameters in the following function:\n",
        "# resource.Bucket(name=).put_object(Key=, Body=)"
      ],
      "execution_count": null,
      "outputs": []
    },
    {
      "cell_type": "markdown",
      "metadata": {
        "id": "m77UpiLNiMjf"
      },
      "source": [
        "In the dictionary <code>Params</code> provide the bucket name  as the value for the key <i>'Bucket'</i>. Also for the value of the key <i>'Key'</i> add the name of the <code>html</code> file, both values should be strings."
      ]
    },
    {
      "cell_type": "code",
      "metadata": {
        "id": "y-zQ41kaiMjg"
      },
      "source": [
        "# Fill in the value for each key\n",
        "# Params = {'Bucket': ,'Key': }"
      ],
      "execution_count": null,
      "outputs": []
    },
    {
      "cell_type": "markdown",
      "metadata": {
        "id": "aPQFmu_wiMjh"
      },
      "source": [
        "The following lines of code will generate a URL to share your dashboard. The URL only last seven days, but don't worry you will get full marks if the URL is visible in your notebook.  "
      ]
    },
    {
      "cell_type": "code",
      "metadata": {
        "id": "VNJ1ct_liMji"
      },
      "source": [
        "import sys\n",
        "time = 7*24*60**2\n",
        "client = boto3.client(\n",
        "    's3',\n",
        "    aws_access_key_id = credentials[\"cos_hmac_keys\"]['access_key_id'],\n",
        "    aws_secret_access_key = credentials[\"cos_hmac_keys\"][\"secret_access_key\"],\n",
        "    endpoint_url=endpoint,\n",
        "\n",
        ")\n",
        "url = client.generate_presigned_url('get_object',Params=Params,ExpiresIn=time)\n",
        "print(url)"
      ],
      "execution_count": null,
      "outputs": []
    },
    {
      "cell_type": "markdown",
      "metadata": {
        "id": "C0lqI_f8iMjl"
      },
      "source": [
        "<h2 id=\"Section_5\">  How to submit </h2>"
      ]
    },
    {
      "cell_type": "markdown",
      "metadata": {
        "id": "coDpztAJiMjm"
      },
      "source": [
        "<p>Once you complete your notebook you will have to share it to be marked. Select the icon on the top right a marked in red in the image below, a dialogue box should open, select the option all&nbsp;content excluding sensitive code cells.</p>\n",
        "\n",
        "<p><img height=\"440\" width=\"700\" src=\"https://s3-api.us-geo.objectstorage.softlayer.net/cf-courses-data/CognitiveClass/PY0101EN/projects/EdX/ReadMe%20files/share_noteook1.png\" alt=\"share notebook\" /></p>\n",
        "<p></p>\n",
        "\n",
        "<p>You can then share the notebook&nbsp; via a&nbsp; URL by scrolling down as shown in the following image:</p>\n",
        "<p style=\"text-align: center;\"> <img height=\"308\" width=\"350\" src=\"https://s3-api.us-geo.objectstorage.softlayer.net/cf-courses-data/CognitiveClass/PY0101EN/projects/EdX/ReadMe%20files/link2.png\"  alt=\"share notebook\" /> </p>"
      ]
    },
    {
      "cell_type": "markdown",
      "metadata": {
        "id": "zS2I7p5siMjn"
      },
      "source": [
        "<hr>\n",
        "<p>Copyright &copy; 2019 IBM Developer Skills Network. This notebook and its source code are released under the terms of the <a href=\"https://cognitiveclass.ai/mit-license/\">MIT License</a>.</p>"
      ]
    },
    {
      "cell_type": "markdown",
      "metadata": {
        "id": "xYnqQJmoiMjo"
      },
      "source": [
        "<h2>About the Authors:</h2> \n",
        "\n",
        "<a href=\"https://www.linkedin.com/in/joseph-s-50398b136/\">Joseph Santarcangelo</a> has a PhD in Electrical Engineering, his research focused on using machine learning, signal processing, and computer vision to determine how videos impact human cognition. Joseph has been working for IBM since he completed his PhD.\n",
        "<p>\n",
        "Other contributors: <a href=\"https://www.linkedin.com/in/yi-leng-yao-84451275/\">Yi leng Yao</a>, <a href=\"www.linkedin.com/in/jiahui-mavis-zhou-a4537814a\">Mavis Zhou</a> \n",
        "</p>"
      ]
    },
    {
      "cell_type": "markdown",
      "metadata": {
        "id": "9hG9x1CGiMjp"
      },
      "source": [
        "<h2>References :</h2> "
      ]
    },
    {
      "cell_type": "markdown",
      "metadata": {
        "id": "SUBv-60YiMjq"
      },
      "source": [
        "<ul>\n",
        " <il>\n",
        "     1) <a href=\"https://research.stlouisfed.org/\">Economic Research at the St. Louis Fed </a>:<a href=\"https://fred.stlouisfed.org/series/UNRATE/\"> Civilian Unemployment Rate</a>\n",
        "   </il>   \n",
        "    <p>\n",
        "     <il>\n",
        "    2) <a href=\"https://github.com/datasets\">Data Packaged Core Datasets\n",
        "       </a>\n",
        "   </il> \n",
        "    </p>\n",
        "    \n",
        "</ul>\n",
        "</div>"
      ]
    }
  ]
}